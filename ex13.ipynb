{
 "cells": [
  {
   "cell_type": "code",
   "execution_count": 110,
   "id": "42050e3e",
   "metadata": {},
   "outputs": [],
   "source": [
    "import pickle,gzip,math,os,time,shutil,torch,matplotlib as mpl, numpy as np\n",
    "from pathlib import Path\n",
    "from torch import tensor\n",
    "from fastcore.test import test_close\n",
    "import random\n",
    "\n",
    "def seed(n=40):\n",
    "    torch.manual_seed(n)\n",
    "    random.seed(n)\n",
    "\n",
    "mpl.rcParams['image.cmap'] = 'gray'\n",
    "torch.set_printoptions(precision=2, linewidth=125, sci_mode=False)\n",
    "np.set_printoptions(precision=2, linewidth=125)\n",
    "\n",
    "path_gz = './mnist.pkl.gz'\n",
    "with gzip.open(path_gz, 'rb') as f: ((x_train, y_train), (x_valid, y_valid), _) = pickle.load(f, encoding='latin-1')\n",
    "x_train, y_train, x_valid, y_valid = map(tensor, [x_train, y_train, x_valid, y_valid])"
   ]
  },
  {
   "cell_type": "code",
   "execution_count": 111,
   "id": "62795500",
   "metadata": {},
   "outputs": [
    {
     "data": {
      "text/plain": [
       "(torch.Size([50000, 784]), torch.Size([50000]))"
      ]
     },
     "execution_count": 111,
     "metadata": {},
     "output_type": "execute_result"
    }
   ],
   "source": [
    "x_train.shape, y_train.shape"
   ]
  },
  {
   "cell_type": "code",
   "execution_count": 112,
   "id": "88730d89",
   "metadata": {},
   "outputs": [
    {
     "data": {
      "text/plain": [
       "tensor([5, 0, 4, 1, 9])"
      ]
     },
     "execution_count": 112,
     "metadata": {},
     "output_type": "execute_result"
    }
   ],
   "source": [
    "y_train[0:5]"
   ]
  },
  {
   "cell_type": "code",
   "execution_count": 113,
   "id": "bb4d5b0d",
   "metadata": {},
   "outputs": [],
   "source": [
    "#x_train = x_train[0:5,]; y_train = y_train[0:5]"
   ]
  },
  {
   "cell_type": "code",
   "execution_count": 114,
   "id": "f92bd48f",
   "metadata": {},
   "outputs": [],
   "source": [
    "# weigts & biases\n",
    "nh = 50\n",
    "m = x_train.shape[1]\n",
    "\n",
    "seed()\n",
    "w1 = torch.randn(m,nh)\n",
    "b1 = torch.randn(nh)\n",
    "w2 = torch.randn(nh,1)\n",
    "b2 = torch.zeros(1)"
   ]
  },
  {
   "cell_type": "code",
   "execution_count": 115,
   "id": "31f7f8d6",
   "metadata": {},
   "outputs": [
    {
     "name": "stdout",
     "output_type": "stream",
     "text": [
      "Loss = None\n",
      "Loss = 601.9739379882812\n",
      "Loss = 583.3956298828125\n",
      "Loss = 567.975341796875\n",
      "Loss = 554.0646362304688\n",
      "Loss = 541.06640625\n",
      "Loss = 528.7515258789062\n",
      "Loss = 517.0145874023438\n",
      "Loss = 505.7985534667969\n",
      "Loss = 495.0658264160156\n",
      "Loss = 484.78485107421875\n",
      "Loss = 474.92633056640625\n",
      "Loss = 465.4649963378906\n",
      "Loss = 456.3765869140625\n",
      "Loss = 447.64263916015625\n",
      "Loss = 439.24481201171875\n",
      "Loss = 431.1626281738281\n",
      "Loss = 423.3763732910156\n",
      "Loss = 415.8726806640625\n",
      "Loss = 408.6355285644531\n",
      "Loss = 401.6523742675781\n",
      "Loss = 394.909912109375\n",
      "Loss = 388.3963317871094\n",
      "Loss = 382.099365234375\n",
      "Loss = 376.00787353515625\n",
      "Loss = 370.1133728027344\n",
      "Loss = 364.4066467285156\n",
      "Loss = 358.8783874511719\n",
      "Loss = 353.5189208984375\n",
      "Loss = 348.32025146484375\n",
      "Loss = 343.2760314941406\n",
      "Loss = 338.3805236816406\n",
      "Loss = 333.6271667480469\n",
      "Loss = 329.0087585449219\n",
      "Loss = 324.51904296875\n",
      "Loss = 320.1536865234375\n",
      "Loss = 315.90740966796875\n",
      "Loss = 311.7757873535156\n",
      "Loss = 307.7546691894531\n",
      "Loss = 303.8395080566406\n",
      "Loss = 300.0243225097656\n",
      "Loss = 296.3060302734375\n",
      "Loss = 292.6811218261719\n",
      "Loss = 289.1454772949219\n",
      "Loss = 285.69677734375\n",
      "Loss = 282.33148193359375\n",
      "Loss = 279.0458068847656\n",
      "Loss = 275.8372802734375\n",
      "Loss = 272.703369140625\n",
      "Loss = 269.6407470703125\n",
      "Loss = 266.647705078125\n",
      "Loss = 263.7222595214844\n",
      "Loss = 260.8621520996094\n",
      "Loss = 258.06463623046875\n",
      "Loss = 255.32789611816406\n",
      "Loss = 252.64956665039062\n",
      "Loss = 250.02694702148438\n",
      "Loss = 247.45895385742188\n",
      "Loss = 244.94374084472656\n",
      "Loss = 242.47952270507812\n"
     ]
    }
   ],
   "source": [
    "alpha = 0.0001\n",
    "class Module:\n",
    "    def __call__(self, *args):\n",
    "        self.args = args\n",
    "        self.out = self.forward()\n",
    "        return self.out\n",
    "    \n",
    "    def backward(self):\n",
    "        \"\"\"Calculate gradients\"\"\"\n",
    "        raise NotImplemented\n",
    "    \n",
    "    def forward(self):\n",
    "        raise NotImplemented\n",
    "        \n",
    "class Lin(Module):\n",
    "    def __init__(self, w, b):\n",
    "        self.w, self.b = w, b\n",
    "    \n",
    "    def forward(self):\n",
    "        self.inp = self.args[0]\n",
    "        return self.inp @ self.w + self.b\n",
    "    \n",
    "    def backward(self):\n",
    "        # inp[ij] : i=no. sample, j=no. input\n",
    "        # w[jk] : j = no. input, k = no. output\n",
    "        # out[k] = sum(wjk*inpij)\n",
    "        # dy/dinp = dy/dout * dout/dinp = out.g*sum_k(wjk)\n",
    "        #print(self.inp.T.shape)\n",
    "        #print(self.out.g.shape)\n",
    "        self.w.g = self.inp.T@self.out.g\n",
    "        self.b.g = self.out.g.sum(0)\n",
    "        self.inp.g = self.out.g @ self.w.T\n",
    "    \n",
    "class Relu(Module):\n",
    "    def forward(self):\n",
    "        self.inp = self.args[0]\n",
    "        self.out = np.maximum(0, self.inp)\n",
    "        return self.out\n",
    "    \n",
    "    def backward(self):\n",
    "        self.inp.g = (self.inp>0).float() * self.out.g\n",
    "\n",
    "class Mse(Module):\n",
    "    def forward(self):\n",
    "        self.inp, self.y = self.args[0], self.args[1]\n",
    "        self.out = ((self.inp.T-self.y)**2).mean()\n",
    "        return self.out\n",
    "    \n",
    "    def backward(self):\n",
    "        # dy/d(inp[i])\n",
    "        self.inp.g = (2.*(self.inp.squeeze(1)-self.y)/len(self.y)).unsqueeze(1)\n",
    "        \n",
    "class Model:\n",
    "    def __init__(self, w1, b1, w2, b2):\n",
    "        self.layers = [Lin(w1, b1), Relu(), Lin(w2, b2)]\n",
    "        self.loss_func = Mse()\n",
    "        \n",
    "    def __call__(self, x, y):\n",
    "        out = x\n",
    "        for l in self.layers:\n",
    "            out = l(out)\n",
    "            \n",
    "        loss = self.loss_func(out, y)\n",
    "            \n",
    "        return out.squeeze(1), float(loss)\n",
    "    \n",
    "    def backward(self):\n",
    "        self.loss_func.backward()\n",
    "        for l in self.layers[::-1]:\n",
    "            l.backward()\n",
    "        \n",
    "    def step(self):\n",
    "        with torch.no_grad():\n",
    "            for l in self.layers[::-1]:\n",
    "                if hasattr(l, 'w'):\n",
    "                    l.w -= l.w.g * alpha\n",
    "                    l.b -= l.b.g * alpha\n",
    "                    l.w.g *= 0\n",
    "                    l.b.g *= 0\n",
    "\n",
    "seed()\n",
    "model = Model(w1, b1, w2, b2)\n",
    "new_loss = None\n",
    "loss = None\n",
    "\n",
    "while True:\n",
    "    if loss and new_loss and (new_loss/loss > 0.99 or new_loss > loss):\n",
    "        break\n",
    "    \n",
    "    loss = new_loss\n",
    "    preds, new_loss = model(x_train, y_train)\n",
    "    print(f\"Loss = {str(loss)}\")\n",
    "    \n",
    "    # calc gradients\n",
    "    model.backward()\n",
    "    \n",
    "    # update gradients\n",
    "    model.step()"
   ]
  },
  {
   "cell_type": "code",
   "execution_count": 116,
   "id": "e15b90c6",
   "metadata": {},
   "outputs": [],
   "source": [
    "preds=preds.type(torch.int64)"
   ]
  },
  {
   "cell_type": "code",
   "execution_count": 117,
   "id": "6da39e95",
   "metadata": {},
   "outputs": [
    {
     "name": "stdout",
     "output_type": "stream",
     "text": [
      "Accuracy = 0.028139999136328697\n"
     ]
    }
   ],
   "source": [
    "with torch.no_grad():\n",
    "    acc = (preds == y_train).sum()/len(preds)\n",
    "    print(f\"Accuracy = {acc}\")"
   ]
  },
  {
   "cell_type": "code",
   "execution_count": 118,
   "id": "0d246f47",
   "metadata": {},
   "outputs": [
    {
     "data": {
      "text/plain": [
       "tensor([ -7,  34,  12,  ..., -17,  -4, -16])"
      ]
     },
     "execution_count": 118,
     "metadata": {},
     "output_type": "execute_result"
    }
   ],
   "source": [
    "preds"
   ]
  },
  {
   "cell_type": "code",
   "execution_count": null,
   "id": "312dcfad",
   "metadata": {},
   "outputs": [],
   "source": []
  }
 ],
 "metadata": {
  "kernelspec": {
   "display_name": "Python 3 (ipykernel)",
   "language": "python",
   "name": "python3"
  },
  "language_info": {
   "codemirror_mode": {
    "name": "ipython",
    "version": 3
   },
   "file_extension": ".py",
   "mimetype": "text/x-python",
   "name": "python",
   "nbconvert_exporter": "python",
   "pygments_lexer": "ipython3",
   "version": "3.10.12"
  }
 },
 "nbformat": 4,
 "nbformat_minor": 5
}
